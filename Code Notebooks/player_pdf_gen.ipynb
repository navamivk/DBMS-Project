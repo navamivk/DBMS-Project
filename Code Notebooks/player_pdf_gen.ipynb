{
 "cells": [
  {
   "cell_type": "code",
   "execution_count": 53,
   "metadata": {},
   "outputs": [],
   "source": [
    "import pandas as pd\n",
    "\n",
    "tournaments = pd.read_csv('../Data Files/tournament.csv')\n",
    "players = pd.read_csv('../Data Files/player.csv')\n",
    "matches = pd.read_csv('../Data Files/match.csv')\n",
    "profiles = pd.read_csv('../Data Files/playerProfile.csv')\n",
    "country = pd.read_csv('../Data Files/country.csv')\n",
    "arbiter = pd.read_csv('../Data Files/arbiter.csv')"
   ]
  },
  {
   "cell_type": "code",
   "execution_count": 54,
   "metadata": {},
   "outputs": [],
   "source": [
    "from borb.pdf import Document\n",
    "from borb.pdf.page.page import Page\n",
    "from borb.pdf.pdf import PDF\n",
    "from borb.pdf.canvas.layout.page_layout.multi_column_layout import SingleColumnLayout\n",
    "from borb.pdf.canvas.layout.page_layout.page_layout import PageLayout\n",
    "from decimal import Decimal\n",
    "from borb.pdf.canvas.layout.image.image import Image"
   ]
  },
  {
   "cell_type": "code",
   "execution_count": 55,
   "metadata": {},
   "outputs": [],
   "source": [
    "from borb.pdf import FixedColumnWidthTable, FlexibleColumnWidthTable\n",
    "from borb.pdf.canvas.layout.text.paragraph import Paragraph\n",
    "from pathlib import Path\n",
    "from borb.pdf import HexColor\n",
    "from borb.pdf.canvas.font.simple_font.true_type_font import TrueTypeFont\n",
    "import requests\n",
    "from borb.pdf.canvas.font.font import Font\n",
    "from borb.pdf import Alignment\n",
    "from borb.pdf import TableCell"
   ]
  },
  {
   "cell_type": "code",
   "execution_count": 56,
   "metadata": {},
   "outputs": [],
   "source": [
    "font_path: Path = Path('../Fonts/Everson Mono.ttf')\n",
    "custom_font: Font = TrueTypeFont.true_type_font_from_file(font_path)\n",
    "imgAttrib = 'image: Flaticon.com'"
   ]
  },
  {
   "cell_type": "code",
   "execution_count": 57,
   "metadata": {},
   "outputs": [
    {
     "data": {
      "text/plain": [
       "<borb.pdf.canvas.layout.page_layout.multi_column_layout.SingleColumnLayout at 0x17117762d90>"
      ]
     },
     "execution_count": 57,
     "metadata": {},
     "output_type": "execute_result"
    }
   ],
   "source": [
    "pdf = Document()\n",
    "page = Page()\n",
    "\n",
    "pdf.add_page(page)\n",
    "\n",
    "layout = SingleColumnLayout(page)\n",
    "\n",
    "layout.add(    \n",
    "    Image(\n",
    "        Path('../strategy.png'),        \n",
    "    width=Decimal(128),        \n",
    "    height=Decimal(128), horizontal_alignment=Alignment.CENTERED)\n",
    "    )\n",
    "\n",
    "layout.add(Paragraph('Gambit Chess Tournament Report', font_size=22, font=custom_font, horizontal_alignment=Alignment.CENTERED))"
   ]
  },
  {
   "cell_type": "code",
   "execution_count": 58,
   "metadata": {},
   "outputs": [],
   "source": [
    "playerID = 'BN-21-NJLH'\n",
    "\n",
    "player = players[players['Player_ID'] == playerID]\n",
    "\n",
    "playerName = player['Player_Name'].values[0]\n",
    "dob = player['DOB'].values[0]\n",
    "gender = player['Gender'].values[0]\n",
    "fidePerc = player['FIDE_Percentile'].values[0]\n",
    "rating = player['Player_Rating'].values[0]\n",
    "countryName = country[country['Country_ID'] == player['Country'].values[0]]['Country_Name'].values[0]"
   ]
  },
  {
   "cell_type": "code",
   "execution_count": 59,
   "metadata": {},
   "outputs": [
    {
     "data": {
      "text/plain": [
       "<borb.pdf.canvas.layout.page_layout.multi_column_layout.SingleColumnLayout at 0x17117762d90>"
      ]
     },
     "execution_count": 59,
     "metadata": {},
     "output_type": "execute_result"
    }
   ],
   "source": [
    "layout.add(Paragraph(''))\n",
    "layout.add(Paragraph(''))\n",
    "layout.add(Paragraph(''))\n",
    "\n",
    "layout.add(Paragraph('Player Name: ' + playerName, font_size=14, font=custom_font))\n",
    "layout.add(Paragraph('License: ' + playerID, font_size=12, font=custom_font))\n",
    "layout.add(Paragraph('Date of Birth: ' + dob, font_size=14, font=custom_font))\n",
    "layout.add(Paragraph('Gender: ' + gender, font_size=14, font=custom_font))\n",
    "layout.add(Paragraph('Rating: ' + str(players[players['Player_ID'] == playerID]['Player_Rating'].values[0]), font_size=12, font=custom_font))\n",
    "layout.add(Paragraph('FIDE Percentile: ' + str(fidePerc), font_size=14, font=custom_font))\n",
    "layout.add(Paragraph('Country: ' + countryName, font_size=14, font=custom_font))\n",
    "layout.add(Paragraph(''))\n"
   ]
  },
  {
   "cell_type": "code",
   "execution_count": 60,
   "metadata": {},
   "outputs": [],
   "source": [
    "page2 = Page()\n",
    "\n",
    "pdf.add_page(page2)\n",
    "\n",
    "layout2 = SingleColumnLayout(page2)\n",
    "\n",
    "layout2.add(Paragraph('Achievements', font_size=12, font=custom_font))\n",
    "prof = profiles[profiles['Player_ID'] == playerID]\n",
    "prof = prof[prof['Achievements'].astype(str) != 'nan']\n",
    "\n",
    "table = FixedColumnWidthTable(number_of_rows=len(prof) + 1, number_of_columns=3)\n",
    "\n",
    "odd_color = HexColor(\"BBBBBB\")\n",
    "even_color = HexColor(\"FFFFFF\")\n",
    "\n",
    "table.add(TableCell(Paragraph('Achievement', font_size=12, font=custom_font), background_color=odd_color, padding_top=Decimal(5), padding_left=Decimal(5)))\n",
    "table.add(TableCell(Paragraph('Year', font_size=12, font=custom_font), background_color=odd_color, padding_top=Decimal(5), padding_left=Decimal(5)))\n",
    "table.add(TableCell(Paragraph('Coach', font_size=12, font=custom_font), background_color=odd_color, padding_top=Decimal(5), padding_left=Decimal(5)))\n",
    "    \n",
    "for i in range(len(prof)):\n",
    "    c = even_color if i % 2 == 0 else odd_color\n",
    "    row = prof.iloc[i]\n",
    "    table.add(TableCell(Paragraph(row['Achievements'][:-3], font_size=10, font=custom_font), background_color=c, padding_top=Decimal(5), padding_left=Decimal(5)))\n",
    "    table.add(TableCell(Paragraph(str(row['Year']), font_size=10, font=custom_font), background_color=c, padding_top=Decimal(5), padding_left=Decimal(5)))\n",
    "    table.add(TableCell(Paragraph(row['CoachName'], font_size=10, font=custom_font), background_color=c, padding_top=Decimal(5), padding_left=Decimal(5)))\n",
    "\n",
    "if (len(prof)>0):\n",
    "    layout2.add(table)\n",
    "else:\n",
    "    layout2.add(Paragraph('None', font_size=12, font=custom_font))"
   ]
  },
  {
   "cell_type": "code",
   "execution_count": 61,
   "metadata": {},
   "outputs": [],
   "source": [
    "with open('../Outs/player_test.pdf', 'wb') as pdfOut:\n",
    "    PDF.dumps(pdfOut, pdf)"
   ]
  }
 ],
 "metadata": {
  "kernelspec": {
   "display_name": "Python 3.9.1 64-bit",
   "language": "python",
   "name": "python3"
  },
  "language_info": {
   "codemirror_mode": {
    "name": "ipython",
    "version": 3
   },
   "file_extension": ".py",
   "mimetype": "text/x-python",
   "name": "python",
   "nbconvert_exporter": "python",
   "pygments_lexer": "ipython3",
   "version": "3.9.1"
  },
  "orig_nbformat": 4,
  "vscode": {
   "interpreter": {
    "hash": "7168f83c4391c439d51a263b0e14cedaca6d78fa0068c06fda6d0c2874adacc9"
   }
  }
 },
 "nbformat": 4,
 "nbformat_minor": 2
}
