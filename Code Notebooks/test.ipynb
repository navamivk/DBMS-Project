{
 "cells": [
  {
   "cell_type": "code",
   "execution_count": 3,
   "metadata": {},
   "outputs": [],
   "source": [
    "import streamlit as st\n",
    "import plotly.graph_objects as go\n",
    "import pandas as pd"
   ]
  },
  {
   "cell_type": "code",
   "execution_count": 39,
   "metadata": {},
   "outputs": [
    {
     "data": {
      "text/plain": [
       "'Tournament'"
      ]
     },
     "execution_count": 39,
     "metadata": {},
     "output_type": "execute_result"
    }
   ],
   "source": [
    "page_title = \"Welcome to Gambit\"\n",
    "page_icon = ':bar_chart:'\n",
    "layout = 'centered'\n",
    "st.set_page_config(page_title = page_title, page_icon = page_icon, layout = layout)\n",
    "st.title(page_title + \" \" + page_icon)\n",
    "st.selectbox(\"Select: \",['Tournament','Year','Player'])"
   ]
  },
  {
   "cell_type": "code",
   "execution_count": 37,
   "metadata": {},
   "outputs": [],
   "source": [
    "tournament = pd.read_csv(r\"D:\\Python Projects\\Gambit\\tournament.csv\")\n",
    "player = pd.read_csv(r\"D:\\Python Projects\\Gambit\\player.csv\")\n",
    "country = pd.read_csv(r\"D:\\Python Projects\\Gambit\\country.csv\")\n",
    "\n",
    "#tournament.columns.to_list()\n",
    "year = list(dict.fromkeys(pd.DatetimeIndex(tournament['Start_Date']).year)) \n",
    "player_id = list(player[\"Player_ID\"])\n",
    "player_name = list(player[\"Player_Name\"])\n",
    "country = list(country['Country_Name'])"
   ]
  },
  {
   "cell_type": "code",
   "execution_count": 38,
   "metadata": {},
   "outputs": [
    {
     "data": {
      "text/plain": [
       "'Tournament'"
      ]
     },
     "execution_count": 38,
     "metadata": {},
     "output_type": "execute_result"
    }
   ],
   "source": []
  },
  {
   "cell_type": "code",
   "execution_count": null,
   "metadata": {},
   "outputs": [],
   "source": []
  }
 ],
 "metadata": {
  "kernelspec": {
   "display_name": "Python 3.10.4 ('env')",
   "language": "python",
   "name": "python3"
  },
  "language_info": {
   "codemirror_mode": {
    "name": "ipython",
    "version": 3
   },
   "file_extension": ".py",
   "mimetype": "text/x-python",
   "name": "python",
   "nbconvert_exporter": "python",
   "pygments_lexer": "ipython3",
   "version": "3.10.4"
  },
  "orig_nbformat": 4,
  "vscode": {
   "interpreter": {
    "hash": "7aa7eecd0f849ab40efe6ac0a8ce5383eaa0569ecfba7009708b3eaae53995d1"
   }
  }
 },
 "nbformat": 4,
 "nbformat_minor": 2
}
